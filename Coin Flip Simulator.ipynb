{
 "cells": [
  {
   "cell_type": "code",
   "execution_count": 1,
   "metadata": {
    "collapsed": true
   },
   "outputs": [],
   "source": [
    "import random"
   ]
  },
  {
   "cell_type": "code",
   "execution_count": null,
   "metadata": {},
   "outputs": [],
   "source": [
    "def coinflip(flips):\n",
    "    heads=0\n",
    "    tails=0\n",
    "    for x in range(int(flips)):\n",
    "        i = random.choice([0,1])\n",
    "        if i==0:\n",
    "            heads+=1\n",
    "            print('heads')\n",
    "        else:\n",
    "            tails+=1\n",
    "            print('tails')\n",
    "    print ('heads: ' + str(heads))\n",
    "    print ('tails: ' + str(tails))\n",
    "\n",
    "howmany = input('How many flips do you want?')\n",
    "coinflip(howmany)"
   ]
  },
  {
   "cell_type": "code",
   "execution_count": null,
   "metadata": {},
   "outputs": [],
   "source": []
  },
  {
   "cell_type": "code",
   "execution_count": null,
   "metadata": {
    "collapsed": true
   },
   "outputs": [],
   "source": []
  }
 ],
 "metadata": {
  "kernelspec": {
   "display_name": "Python 3",
   "language": "python",
   "name": "python3"
  },
  "language_info": {
   "codemirror_mode": {
    "name": "ipython",
    "version": 3
   },
   "file_extension": ".py",
   "mimetype": "text/x-python",
   "name": "python",
   "nbconvert_exporter": "python",
   "pygments_lexer": "ipython3",
   "version": "3.6.3"
  }
 },
 "nbformat": 4,
 "nbformat_minor": 2
}
